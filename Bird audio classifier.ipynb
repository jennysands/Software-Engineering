{
 "cells": [
  {
   "cell_type": "code",
   "execution_count": 1,
   "id": "e18a6191",
   "metadata": {},
   "outputs": [
    {
     "data": {
      "text/plain": [
       "0       \"132608\n",
       "1       \"132609\n",
       "2       \"132611\n",
       "3        \"26308\n",
       "4       \"168551\n",
       "         ...   \n",
       "4614     \"97603\n",
       "4615     \"97604\n",
       "4616     \"40203\n",
       "4617     \"29563\n",
       "4618    \"135855\n",
       "Name: \"id, Length: 4619, dtype: object"
      ]
     },
     "execution_count": 1,
     "metadata": {},
     "output_type": "execute_result"
    }
   ],
   "source": [
    "import pandas as pd\n",
    "df = pd.read_csv(\"C:/Users/carlv/Downloads/ukxcmany/xcmeta.csv\", sep=r\"\\t\", engine= \"python\")\n",
    "df.head()\n",
    "df[\"\\\"id\"]"
   ]
  }
 ],
 "metadata": {
  "kernelspec": {
   "display_name": "Python 3 (ipykernel)",
   "language": "python",
   "name": "python3"
  },
  "language_info": {
   "codemirror_mode": {
    "name": "ipython",
    "version": 3
   },
   "file_extension": ".py",
   "mimetype": "text/x-python",
   "name": "python",
   "nbconvert_exporter": "python",
   "pygments_lexer": "ipython3",
   "version": "3.9.12"
  }
 },
 "nbformat": 4,
 "nbformat_minor": 5
}
