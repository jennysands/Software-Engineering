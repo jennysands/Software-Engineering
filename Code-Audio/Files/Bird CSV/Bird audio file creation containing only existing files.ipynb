{
 "cells": [
  {
   "cell_type": "code",
   "execution_count": 5,
   "id": "c386b21d",
   "metadata": {},
   "outputs": [
    {
     "name": "stdout",
     "output_type": "stream",
     "text": [
      "      Unnamed: 0       filename  label\n",
      "0              0  xc132608.flac      0\n",
      "1              1  xc132609.flac      0\n",
      "2              2  xc132611.flac      0\n",
      "3              3   xc26308.flac      0\n",
      "4              4  xc168551.flac      0\n",
      "...          ...            ...    ...\n",
      "4614        4614   xc97603.flac    272\n",
      "4615        4615   xc97604.flac    272\n",
      "4616        4616   xc40203.flac    273\n",
      "4617        4617   xc29563.flac    273\n",
      "4618        4618  xc135855.flac    273\n",
      "\n",
      "[4619 rows x 3 columns]\n",
      "      Unnamed: 0       filename  label\n",
      "0              0  xc132608.flac      0\n",
      "1              1  xc132609.flac      0\n",
      "2              2  xc132611.flac      0\n",
      "3              3   xc26308.flac      0\n",
      "4              4  xc168551.flac      0\n",
      "...          ...            ...    ...\n",
      "4614        4614   xc97603.flac    272\n",
      "4615        4615   xc97604.flac    272\n",
      "4616        4616   xc40203.flac    273\n",
      "4617        4617   xc29563.flac    273\n",
      "4618        4618  xc135855.flac    273\n",
      "\n",
      "[4131 rows x 3 columns]\n"
     ]
    }
   ],
   "source": [
    "import pandas as pd\n",
    "import os\n",
    "df = pd.read_csv(\"C:/Users/carlv/Software/birds_label_filename_df_full.csv\")\n",
    "testlist = []\n",
    "final_path_list = []\n",
    "final_label_list = []\n",
    "\n",
    "#for item in df[\"filename\"]:\n",
    "    #if item not in (os.listdir(\"C:/Users/carlv/Downloads/ukxcmany/flac\")):\n",
    "for bird_audio_file in (os.listdir(\"C:/Users/carlv/Downloads/ukxcmany/flac\")):\n",
    "    testlist.append(bird_audio_file)\n",
    "\n",
    "final_outcome = (df[df.filename.isin(testlist) == True])\n",
    "\n",
    "final_outcome.to_csv(\"C:/Users/carlv/Software/final_birds_label_filename_df.csv\")\n"
   ]
  }
 ],
 "metadata": {
  "kernelspec": {
   "display_name": "Python 3 (ipykernel)",
   "language": "python",
   "name": "python3"
  },
  "language_info": {
   "codemirror_mode": {
    "name": "ipython",
    "version": 3
   },
   "file_extension": ".py",
   "mimetype": "text/x-python",
   "name": "python",
   "nbconvert_exporter": "python",
   "pygments_lexer": "ipython3",
   "version": "3.9.12"
  }
 },
 "nbformat": 4,
 "nbformat_minor": 5
}
