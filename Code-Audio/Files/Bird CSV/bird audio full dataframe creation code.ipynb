{
 "cells": [
  {
   "cell_type": "code",
   "execution_count": 1,
   "id": "5361a6f2",
   "metadata": {},
   "outputs": [
    {
     "name": "stdout",
     "output_type": "stream",
     "text": [
      "           filename  label\n",
      "0     xc132608.flac      0\n",
      "1     xc132609.flac      0\n",
      "2     xc132611.flac      0\n",
      "3      xc26308.flac      0\n",
      "4     xc168551.flac      0\n",
      "...             ...    ...\n",
      "4614   xc97603.flac    272\n",
      "4615   xc97604.flac    272\n",
      "4616   xc40203.flac    273\n",
      "4617   xc29563.flac    273\n",
      "4618  xc135855.flac    273\n",
      "\n",
      "[4619 rows x 2 columns]\n"
     ]
    }
   ],
   "source": [
    "import pandas as pd\n",
    "import os\n",
    "df = pd.read_csv(\"C:/Users/carlv/Downloads/ukxcmany/xcmeta.csv\", sep=r\"\\t\", engine= \"python\")\n",
    "df.head()\n",
    "df[\"\\\"id\"] = df[\"\\\"id\"].str.replace('\"','')\n",
    "\n",
    "\n",
    "label_nr = 0\n",
    "new_gen_sp = ((df.iloc[0][\"gen\"])+df.iloc[0][\"sp\"])\n",
    "bird_audio_label_list = []\n",
    "for i in range (len(df[\"gen\"])):\n",
    "    gen_sp = ((df.iloc[i][\"gen\"])+df.iloc[i][\"sp\"])\n",
    "    if gen_sp != new_gen_sp:\n",
    "        new_gen_sp =  gen_sp\n",
    "        gen_sp = label_nr\n",
    "        label_nr+=1\n",
    "    else:\n",
    "        gen_sp = label_nr\n",
    "    bird_audio_label_list.append(gen_sp)\n",
    "bird_audio_label_list.remove(bird_audio_label_list[0])\n",
    "bird_audio_label_list.append(273)\n",
    "#print(bird_audio_label_list)\n",
    "\n",
    "filename_list_birds_audio = []\n",
    "for string_nr in df[\"\\\"id\"]:\n",
    "    path_name = \"xc\" + string_nr +\".flac\"\n",
    "    filename_list_birds_audio.append(path_name)\n",
    "#print(filename_list_birds_audio)\n",
    "birds_label_filename = {'filename':filename_list_birds_audio,'label':bird_audio_label_list}\n",
    "birds_label_filename_df = pd.DataFrame(birds_label_filename)\n",
    "#print(birds_label_filename_df)\n",
    "birds_label_filename_df.to_csv(\"C:/Users/carlv/Software/birds_label_filename_df.csv\")"
   ]
  }
 ],
 "metadata": {
  "kernelspec": {
   "display_name": "Python 3 (ipykernel)",
   "language": "python",
   "name": "python3"
  },
  "language_info": {
   "codemirror_mode": {
    "name": "ipython",
    "version": 3
   },
   "file_extension": ".py",
   "mimetype": "text/x-python",
   "name": "python",
   "nbconvert_exporter": "python",
   "pygments_lexer": "ipython3",
   "version": "3.9.12"
  }
 },
 "nbformat": 4,
 "nbformat_minor": 5
}
