{
 "cells": [
  {
   "cell_type": "code",
   "execution_count": null,
   "id": "c386b21d",
   "metadata": {},
   "outputs": [],
   "source": [
    "df = pd.read_csv(\"C:/Users/carlv/Software/birds_label_filename_df.csv\")\n",
    "testlist = []\n",
    "final_path_list = []\n",
    "final_label_list = []\n",
    "\n",
    "#for item in df[\"filename\"]:\n",
    "    #if item not in (os.listdir(\"C:/Users/carlv/Downloads/ukxcmany/flac\")):\n",
    "for bird_audio_file in (os.listdir(\"C:/Users/carlv/Downloads/ukxcmany/flac\")):\n",
    "    testlist.append(bird_audio_file)\n",
    "\n",
    "final_outcome = (df[df.filename.isin(testlist) == True])\n",
    "final_outcome.to_csv(\"C:/Users/carlv/Software/final_birds_label_filename_df.csv\")\n"
   ]
  }
 ],
 "metadata": {
  "kernelspec": {
   "display_name": "Python 3 (ipykernel)",
   "language": "python",
   "name": "python3"
  },
  "language_info": {
   "codemirror_mode": {
    "name": "ipython",
    "version": 3
   },
   "file_extension": ".py",
   "mimetype": "text/x-python",
   "name": "python",
   "nbconvert_exporter": "python",
   "pygments_lexer": "ipython3",
   "version": "3.9.12"
  }
 },
 "nbformat": 4,
 "nbformat_minor": 5
}
