{
  "nbformat": 4,
  "nbformat_minor": 0,
  "metadata": {
    "colab": {
      "provenance": [],
      "collapsed_sections": [],
      "include_colab_link": true
    },
    "kernelspec": {
      "name": "python3",
      "display_name": "Python 3"
    },
    "language_info": {
      "name": "python"
    }
  },
  "cells": [
    {
      "cell_type": "markdown",
      "metadata": {
        "id": "view-in-github",
        "colab_type": "text"
      },
      "source": [
        "<a href=\"https://colab.research.google.com/github/jennysands/Software-Engineering/blob/main/Assignment_2.ipynb\" target=\"_parent\"><img src=\"https://colab.research.google.com/assets/colab-badge.svg\" alt=\"Open In Colab\"/></a>"
      ]
    },
    {
      "cell_type": "code",
      "execution_count": null,
      "metadata": {
        "id": "GdOj3e9lOm_D"
      },
      "outputs": [],
      "source": [
        "import pandas as pd\n",
        "import csv\n",
        "import os #for file navigation\n",
        "\n",
        "ROOT_PATH = os.path.dirname(os.path.abspath(__file__))\n",
        "os.chdir(ROOT_PATH)             #ensure all following commands are running relative to the location of this file\n",
        "\n",
        "#fairly simple way to get all filepaths of files in the folder of the code file and all subfolders\n",
        "#then easily filter-able given the consistent syntax to get specific files\n",
        "def getfilepaths(inputdir):\n",
        "    filelist = list()\n",
        "    def listfiles(rootdir): #recursive function to get filenames of everything in the root path and every subfolder\n",
        "        for fileorfoldername in os.scandir(rootdir):\n",
        "            if fileorfoldername.is_dir():\n",
        "                filelist.append(fileorfoldername.path)\n",
        "                listfiles(fileorfoldername)\n",
        "            else:\n",
        "                filelist.append(fileorfoldername.path)\n",
        "    listfiles(inputdir)\n",
        "    return filelist\n",
        "\n",
        "#stuff specifically for the small audio dataset without meta data, \"\\\" might be different if the GPU machine is running linux?\n",
        "X_train = getfilepaths(ROOT_PATH + \"\\insectsound_MariusFaißMSc\\ManualTrain\")\n",
        "X_test = getfilepaths(ROOT_PATH + \"\\insectsound_MariusFaißMSc\\ManualTest\")\n",
        "X_val = getfilepaths(ROOT_PATH + \"\\insectsound_MariusFaißMSc\\ManualValidation\")"
      ]
    },
    {
      "cell_type": "markdown",
      "source": [
        "# New Section"
      ],
      "metadata": {
        "id": "yYgtRQ9aYwub"
      }
    },
    {
      "cell_type": "code",
      "source": [
        "import pandas as pd\n",
        "import os\n",
        "import torch\n",
        "import torchaudio\n",
        "from torchaudio import transforms\n",
        "from torchaudio.utils import download_asset\n",
        "import random\n",
        "import matplotlib.pyplot as plt\n",
        "#Loading the data\n",
        "\n",
        "listed_files_train = [] #Creating a list to remove inappropriate data\n",
        "current_path_train = \"C:/Users/carlv/Downloads/insectsound_MariusFaißMSc/ManualTrain\"\n",
        "x_train =  os.scandir(\"C:/Users/carlv/Downloads/insectsound_MariusFaißMSc/ManualTrain\")  \n",
        "for train_path in x_train:\n",
        "    listed_files_train.append(train_path)\n",
        "listed_files_train.remove(listed_files_train[0])\n",
        "\n",
        "#Creating the main class, which will have necessary methods\n",
        "\n",
        "class AudioUtil():\n",
        "    \n",
        "    #loading and reading the files\n",
        "   \n",
        "    @staticmethod\n",
        "    def file_open(audio_file):\n",
        "        sig, sr = torchaudio.load(audio_file)\n",
        "        return sig, sr\n",
        "    \n",
        "    #Equalizing the sample sizes\n",
        "    \n",
        "    @staticmethod\n",
        "    def pad_trunc(aud, max_ms):\n",
        "        sig, sr = aud\n",
        "        num_rows, sig_len = sig.shape\n",
        "        max_len = sr//1000 * max_ms\n",
        "\n",
        "        if (sig_len > max_len):\n",
        "            sig = sig[:,:max_len]\n",
        "\n",
        "        elif (sig_len < max_len):\n",
        "            pad_begin_len = random.randint(0, max_len - sig_len)\n",
        "            pad_end_len = max_len - sig_len - pad_begin_len\n",
        "\n",
        "            pad_begin = torch.zeros((num_rows, pad_begin_len))\n",
        "            pad_end = torch.zeros((num_rows, pad_end_len))\n",
        "\n",
        "            sig = torch.cat((pad_begin, sig, pad_end), 1)\n",
        "      \n",
        "        return (sig, sr)\n",
        "    \n",
        "    #Shifting time. (For now, I don't know what I should add in the second parameter when testing)\n",
        "    \n",
        "    @staticmethod\n",
        "    def time_shift(aud, shift_limit):\n",
        "        sig,sr = aud\n",
        "        _, sig_len = sig.shape\n",
        "        shift_amt = int(random.random() * shift_limit * sig_len)\n",
        "        return (sig.roll(shift_amt), sr)\n",
        "    \n",
        "    # Mel spectrogram\n",
        "    \n",
        "    @staticmethod\n",
        "    def spectro_gram(aud, n_mels=64, n_fft=1024, hop_len=None):\n",
        "        sig,sr = aud\n",
        "        top_db = 80\n",
        "\n",
        "        # spec has shape [channel, n_mels, time], where channel is mono, stereo etc\n",
        "        spec = transforms.MelSpectrogram(sr, n_fft=n_fft, hop_length=hop_len, n_mels=n_mels)(sig)\n",
        "\n",
        "        # Convert to decibels\n",
        "        spec = transforms.AmplitudeToDB(top_db=top_db)(spec)\n",
        "        return (spec)\n",
        "    \n",
        "    # Augemented Mel spectrogram\n",
        "    \n",
        "    @staticmethod\n",
        "    def spectro_augment(spec, max_mask_pct=0.1, n_freq_masks=1, n_time_masks=1):\n",
        "        _, n_mels, n_steps = spec.shape\n",
        "        mask_value = spec.mean()\n",
        "        aug_spec = spec\n",
        "\n",
        "        freq_mask_param = max_mask_pct * n_mels\n",
        "        for _ in range(n_freq_masks):\n",
        "            aug_spec = transforms.FrequencyMasking(freq_mask_param)(aug_spec, mask_value)\n",
        "\n",
        "        time_mask_param = max_mask_pct * n_steps\n",
        "        for _ in range(n_time_masks):\n",
        "            aug_spec = transforms.TimeMasking(time_mask_param)(aug_spec, mask_value)\n",
        "\n",
        "        return aug_spec\n",
        "#Testing the output\n",
        "for link_train in listed_files_train:\n",
        "    open_link_train = AudioUtil.file_open(link_train)\n",
        "    link_train_resize = AudioUtil.pad_trunc(open_link_train,10000)\n",
        "    link_train_shifted = AudioUtil.time_shift(link_train_resize,1000)\n",
        "    mel_spect = AudioUtil.spectro_gram(aud = link_train_resize)\n",
        "    augmented_spect = AudioUtil.spectro_augment(spec = mel_spect)\n",
        "    augmented_spect = augmented_spect.squeeze(0)\n",
        "    #print(mel_spect)\n",
        "    #print(augmented_spect) \n",
        "print(augmented_spect.shape)\n",
        "plt.figure()\n",
        "plt.plot(augmented_spect)\n",
        "plt.show()"
      ],
      "metadata": {
        "id": "rtWtkdltS70y"
      },
      "execution_count": null,
      "outputs": []
    },
    {
      "cell_type": "code",
      "source": [],
      "metadata": {
        "id": "X9X4Z51WP8cT",
        "colab": {
          "base_uri": "https://localhost:8080/"
        },
        "outputId": "2376a754-3c2e-41f1-f4cd-bfda1d97da34"
      },
      "execution_count": null,
      "outputs": [
        {
          "output_type": "stream",
          "name": "stdout",
          "text": [
            "hello\n"
          ]
        }
      ]
    },
    {
      "cell_type": "code",
      "source": [],
      "metadata": {
        "id": "TtBkOmOoW5zl"
      },
      "execution_count": null,
      "outputs": []
    }
  ]
}