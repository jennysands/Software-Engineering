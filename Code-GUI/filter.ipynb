{
 "cells": [
  {
   "cell_type": "code",
   "execution_count": 1,
   "metadata": {},
   "outputs": [],
   "source": [
    "import pandas as pd\n",
    "\n",
    "file_name = \"C:\\\\Users\\\\Tee\\\\Documents\\\\GitHub\\\\Software-Engineering\\\\Code-GUI\\\\final_birds_label_species_filename_df.csv\"\n",
    "file_name_output = \"C:\\\\Users\\\\Tee\\\\Documents\\\\GitHub\\\\Software-Engineering\\\\Code-GUI\\\\SE_GUI\\\\data\\\\Bird_Species_filtered_FOR_AUDIO.csv\"\n",
    "\n",
    "\n",
    "df = pd.read_csv(file_name)\n",
    "\n",
    "df.drop_duplicates(subset=['species'], keep='first', inplace=True)\n",
    "\n",
    "df.to_csv(file_name_output, index=False)"
   ]
  },
  {
   "cell_type": "code",
   "execution_count": 2,
   "metadata": {},
   "outputs": [
    {
     "name": "stdout",
     "output_type": "stream",
     "text": [
      "Porzanaatra\n"
     ]
    }
   ],
   "source": [
    "check = pd.read_csv(file_name_output)\n",
    "\n",
    "print(check.iloc[186]['species'])"
   ]
  },
  {
   "cell_type": "code",
   "execution_count": null,
   "metadata": {},
   "outputs": [],
   "source": []
  }
 ],
 "metadata": {
  "kernelspec": {
   "display_name": "Python 3.9.12 ('.venv': venv)",
   "language": "python",
   "name": "python3"
  },
  "language_info": {
   "codemirror_mode": {
    "name": "ipython",
    "version": 3
   },
   "file_extension": ".py",
   "mimetype": "text/x-python",
   "name": "python",
   "nbconvert_exporter": "python",
   "pygments_lexer": "ipython3",
   "version": "3.9.12"
  },
  "orig_nbformat": 4,
  "vscode": {
   "interpreter": {
    "hash": "5466eb4f5b81d3ec2a1537aaf13da8ec5c6a8a2af2fbd20680f1bbf6dc293e5d"
   }
  }
 },
 "nbformat": 4,
 "nbformat_minor": 2
}
